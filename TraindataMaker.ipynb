{
 "cells": [
  {
   "cell_type": "markdown",
   "id": "passing-inspiration",
   "metadata": {},
   "source": [
    "# 출처\n",
    "\n",
    "* https://github.com/songys/Question_pair/blob/master/test.txt"
   ]
  },
  {
   "cell_type": "code",
   "execution_count": 1,
   "id": "concrete-twins",
   "metadata": {},
   "outputs": [],
   "source": [
    "import pandas as pd"
   ]
  },
  {
   "cell_type": "code",
   "execution_count": 2,
   "id": "usual-panel",
   "metadata": {},
   "outputs": [],
   "source": [
    "from konlpy.tag import Mecab"
   ]
  },
  {
   "cell_type": "code",
   "execution_count": 4,
   "id": "combined-steering",
   "metadata": {},
   "outputs": [
    {
     "ename": "ModuleNotFoundError",
     "evalue": "No module named 'gluonnlp'",
     "output_type": "error",
     "traceback": [
      "\u001b[1;31m---------------------------------------------------------------------------\u001b[0m",
      "\u001b[1;31mModuleNotFoundError\u001b[0m                       Traceback (most recent call last)",
      "\u001b[1;32m<ipython-input-4-280b5bf51731>\u001b[0m in \u001b[0;36m<module>\u001b[1;34m\u001b[0m\n\u001b[0;32m      1\u001b[0m \u001b[1;32mimport\u001b[0m \u001b[0mtransformers\u001b[0m\u001b[1;33m\u001b[0m\u001b[0m\n\u001b[0;32m      2\u001b[0m \u001b[0mtransformers\u001b[0m\u001b[1;33m.\u001b[0m\u001b[0m__version__\u001b[0m\u001b[1;33m\u001b[0m\u001b[0m\n\u001b[1;32m----> 3\u001b[1;33m \u001b[1;32mimport\u001b[0m \u001b[0mgluonnlp\u001b[0m\u001b[1;33m\u001b[0m\u001b[0m\n\u001b[0m",
      "\u001b[1;31mModuleNotFoundError\u001b[0m: No module named 'gluonnlp'"
     ]
    }
   ],
   "source": [
    "import transformers\n",
    "transformers.__version__\n",
    "import gluonnlp"
   ]
  },
  {
   "cell_type": "code",
   "execution_count": 25,
   "id": "eastern-madison",
   "metadata": {},
   "outputs": [
    {
     "name": "stderr",
     "output_type": "stream",
     "text": [
      "C:\\Users\\USER\\Anaconda3\\lib\\site-packages\\pandas\\core\\frame.py:4308: SettingWithCopyWarning: \n",
      "A value is trying to be set on a copy of a slice from a DataFrame\n",
      "\n",
      "See the caveats in the documentation: https://pandas.pydata.org/pandas-docs/stable/user_guide/indexing.html#returning-a-view-versus-a-copy\n",
      "  errors=errors,\n"
     ]
    }
   ],
   "source": [
    "# 트레인 데이터 정제\n",
    "\n",
    "\n",
    "kor_pair_train = pd.read_csv('kkangtongData/kor_pair_train.csv')\n",
    "kor_pair_train = kor_pair_train[kor_pair_train['is_duplicate']==0]\n",
    "kor_pair_train_final = kor_pair_train[['question1','question2']]\n",
    "kor_pair_train_final.rename(columns={'question1':'Q','question2':'A'}, inplace = True)\n",
    "kor_pair_train_final.reset_index(drop = True, inplace = True)\n",
    "kor_pair_train_final.to_csv('kor_pair_train_final.csv')\n",
    "kor = pd.read_csv('kor_pair_train_final.csv', index_col=0)"
   ]
  },
  {
   "cell_type": "code",
   "execution_count": 33,
   "id": "resident-drama",
   "metadata": {},
   "outputs": [
    {
     "data": {
      "text/html": [
       "<div>\n",
       "<style scoped>\n",
       "    .dataframe tbody tr th:only-of-type {\n",
       "        vertical-align: middle;\n",
       "    }\n",
       "\n",
       "    .dataframe tbody tr th {\n",
       "        vertical-align: top;\n",
       "    }\n",
       "\n",
       "    .dataframe thead th {\n",
       "        text-align: right;\n",
       "    }\n",
       "</style>\n",
       "<table border=\"1\" class=\"dataframe\">\n",
       "  <thead>\n",
       "    <tr style=\"text-align: right;\">\n",
       "      <th></th>\n",
       "      <th>Q</th>\n",
       "      <th>A</th>\n",
       "    </tr>\n",
       "  </thead>\n",
       "  <tbody>\n",
       "    <tr>\n",
       "      <th>0</th>\n",
       "      <td>2년동안 나 사랑해줘서 고맙다</td>\n",
       "      <td>2년여의 만남 사랑해 고마워</td>\n",
       "    </tr>\n",
       "    <tr>\n",
       "      <th>1</th>\n",
       "      <td>2년사귀다가 헤어젔는데</td>\n",
       "      <td>2년의 시간동안 사랑했는데</td>\n",
       "    </tr>\n",
       "    <tr>\n",
       "      <th>2</th>\n",
       "      <td>2년여의 만남</td>\n",
       "      <td>2년 동안 사궜어</td>\n",
       "    </tr>\n",
       "    <tr>\n",
       "      <th>3</th>\n",
       "      <td>3개월만에 연락이 왔어</td>\n",
       "      <td>3개월전에 헤어진 전남친이 문자했어</td>\n",
       "    </tr>\n",
       "    <tr>\n",
       "      <th>4</th>\n",
       "      <td>3년 사겼어</td>\n",
       "      <td>3년째 연애 중</td>\n",
       "    </tr>\n",
       "    <tr>\n",
       "      <th>...</th>\n",
       "      <td>...</td>\n",
       "      <td>...</td>\n",
       "    </tr>\n",
       "    <tr>\n",
       "      <th>4745</th>\n",
       "      <td>힘들고 지치네</td>\n",
       "      <td>힘들어.너무 힘들어</td>\n",
       "    </tr>\n",
       "    <tr>\n",
       "      <th>4746</th>\n",
       "      <td>힘들어 죽을거 같습니다</td>\n",
       "      <td>힘이 없어</td>\n",
       "    </tr>\n",
       "    <tr>\n",
       "      <th>4747</th>\n",
       "      <td>B형 남자랑 썸 탐.</td>\n",
       "      <td>B형 남자랑 썸을 타게 됨</td>\n",
       "    </tr>\n",
       "    <tr>\n",
       "      <th>4748</th>\n",
       "      <td>SD카드 안돼</td>\n",
       "      <td>SD카드 망가졌어</td>\n",
       "    </tr>\n",
       "    <tr>\n",
       "      <th>4749</th>\n",
       "      <td>SNS 시간낭비인데 자꾸 보게됨</td>\n",
       "      <td>SNS 시간낭비인 거 아는데 매일 하는 중</td>\n",
       "    </tr>\n",
       "  </tbody>\n",
       "</table>\n",
       "<p>4750 rows × 2 columns</p>\n",
       "</div>"
      ],
      "text/plain": [
       "                      Q                        A\n",
       "0      2년동안 나 사랑해줘서 고맙다          2년여의 만남 사랑해 고마워\n",
       "1          2년사귀다가 헤어젔는데           2년의 시간동안 사랑했는데\n",
       "2               2년여의 만남                2년 동안 사궜어\n",
       "3          3개월만에 연락이 왔어      3개월전에 헤어진 전남친이 문자했어\n",
       "4                3년 사겼어                 3년째 연애 중\n",
       "...                 ...                      ...\n",
       "4745            힘들고 지치네               힘들어.너무 힘들어\n",
       "4746       힘들어 죽을거 같습니다                    힘이 없어\n",
       "4747        B형 남자랑 썸 탐.           B형 남자랑 썸을 타게 됨\n",
       "4748            SD카드 안돼                SD카드 망가졌어\n",
       "4749  SNS 시간낭비인데 자꾸 보게됨  SNS 시간낭비인 거 아는데 매일 하는 중\n",
       "\n",
       "[4750 rows x 2 columns]"
      ]
     },
     "execution_count": 33,
     "metadata": {},
     "output_type": "execute_result"
    }
   ],
   "source": [
    "kor"
   ]
  },
  {
   "cell_type": "code",
   "execution_count": 31,
   "id": "developed-graphics",
   "metadata": {},
   "outputs": [
    {
     "name": "stderr",
     "output_type": "stream",
     "text": [
      "C:\\Users\\USER\\Anaconda3\\lib\\site-packages\\pandas\\core\\frame.py:4308: SettingWithCopyWarning: \n",
      "A value is trying to be set on a copy of a slice from a DataFrame\n",
      "\n",
      "See the caveats in the documentation: https://pandas.pydata.org/pandas-docs/stable/user_guide/indexing.html#returning-a-view-versus-a-copy\n",
      "  errors=errors,\n"
     ]
    }
   ],
   "source": [
    "# 테스트 데이터 정제\n",
    "\n",
    "\n",
    "kor_pair_test = pd.read_csv('kkangtongData/kor_Pair_test.csv')\n",
    "kor_pair_test = kor_pair_test[kor_pair_test['is_duplicate']==0]\n",
    "kor_pair_test_final = kor_pair_test[['question1','question2']]\n",
    "kor_pair_test_final.rename(columns={'question1':'Q','question2':'A'}, inplace = True)\n",
    "kor_pair_test_final.reset_index(drop = True, inplace = True)\n",
    "kor_pair_test_final.to_csv('kor_pair_test_final.csv')\n"
   ]
  },
  {
   "cell_type": "code",
   "execution_count": 32,
   "id": "rotary-intellectual",
   "metadata": {},
   "outputs": [
    {
     "data": {
      "text/html": [
       "<div>\n",
       "<style scoped>\n",
       "    .dataframe tbody tr th:only-of-type {\n",
       "        vertical-align: middle;\n",
       "    }\n",
       "\n",
       "    .dataframe tbody tr th {\n",
       "        vertical-align: top;\n",
       "    }\n",
       "\n",
       "    .dataframe thead th {\n",
       "        text-align: right;\n",
       "    }\n",
       "</style>\n",
       "<table border=\"1\" class=\"dataframe\">\n",
       "  <thead>\n",
       "    <tr style=\"text-align: right;\">\n",
       "      <th></th>\n",
       "      <th>Q</th>\n",
       "      <th>A</th>\n",
       "    </tr>\n",
       "  </thead>\n",
       "  <tbody>\n",
       "    <tr>\n",
       "      <th>0</th>\n",
       "      <td>2년 가량의 연애</td>\n",
       "      <td>2년 만났어</td>\n",
       "    </tr>\n",
       "    <tr>\n",
       "      <th>1</th>\n",
       "      <td>2년 만난 기념일이야</td>\n",
       "      <td>우리 벌써 2년 동안 사궜어</td>\n",
       "    </tr>\n",
       "    <tr>\n",
       "      <th>2</th>\n",
       "      <td>가까운 곳으로 나들이 갈까</td>\n",
       "      <td>바람 쐬러 어디 근교로 나갈까</td>\n",
       "    </tr>\n",
       "    <tr>\n",
       "      <th>3</th>\n",
       "      <td>간절히 원하면 이루어질까</td>\n",
       "      <td>꿈이 현실이었으면</td>\n",
       "    </tr>\n",
       "    <tr>\n",
       "      <th>4</th>\n",
       "      <td>강아지 귀여워 심쿵</td>\n",
       "      <td>강아지 밥 먹는거 귀여워</td>\n",
       "    </tr>\n",
       "    <tr>\n",
       "      <th>...</th>\n",
       "      <td>...</td>\n",
       "      <td>...</td>\n",
       "    </tr>\n",
       "    <tr>\n",
       "      <th>354</th>\n",
       "      <td>화해 어떻게 하지</td>\n",
       "      <td>싸웠는데 화해하고 싶어 어떻게 해?</td>\n",
       "    </tr>\n",
       "    <tr>\n",
       "      <th>355</th>\n",
       "      <td>황사땜에 눈아파</td>\n",
       "      <td>미세 먼지 때문에 눈이 아파</td>\n",
       "    </tr>\n",
       "    <tr>\n",
       "      <th>356</th>\n",
       "      <td>회사에 일이 너무 많아</td>\n",
       "      <td>일이 너무 많아서 해도해도 안 끝날 듯</td>\n",
       "    </tr>\n",
       "    <tr>\n",
       "      <th>357</th>\n",
       "      <td>회사에서 짤릴 필이 와</td>\n",
       "      <td>나 회사 짤릴 거 같은데 어떻게 만회하지</td>\n",
       "    </tr>\n",
       "    <tr>\n",
       "      <th>358</th>\n",
       "      <td>휴대폰 액정 깨졌어</td>\n",
       "      <td>액정 깨짐</td>\n",
       "    </tr>\n",
       "  </tbody>\n",
       "</table>\n",
       "<p>359 rows × 2 columns</p>\n",
       "</div>"
      ],
      "text/plain": [
       "                  Q                       A\n",
       "0         2년 가량의 연애                  2년 만났어\n",
       "1       2년 만난 기념일이야         우리 벌써 2년 동안 사궜어\n",
       "2    가까운 곳으로 나들이 갈까        바람 쐬러 어디 근교로 나갈까\n",
       "3     간절히 원하면 이루어질까               꿈이 현실이었으면\n",
       "4        강아지 귀여워 심쿵           강아지 밥 먹는거 귀여워\n",
       "..              ...                     ...\n",
       "354       화해 어떻게 하지     싸웠는데 화해하고 싶어 어떻게 해?\n",
       "355        황사땜에 눈아파         미세 먼지 때문에 눈이 아파\n",
       "356    회사에 일이 너무 많아   일이 너무 많아서 해도해도 안 끝날 듯\n",
       "357    회사에서 짤릴 필이 와  나 회사 짤릴 거 같은데 어떻게 만회하지\n",
       "358      휴대폰 액정 깨졌어                   액정 깨짐\n",
       "\n",
       "[359 rows x 2 columns]"
      ]
     },
     "execution_count": 32,
     "metadata": {},
     "output_type": "execute_result"
    }
   ],
   "source": [
    "kor_test = pd.read_csv('kor_pair_test_final.csv', index_col=0)\n",
    "kor_test"
   ]
  },
  {
   "cell_type": "markdown",
   "id": "excessive-attachment",
   "metadata": {},
   "source": [
    "# AI hub V1"
   ]
  },
  {
   "cell_type": "code",
   "execution_count": 21,
   "id": "designed-insulation",
   "metadata": {},
   "outputs": [],
   "source": [
    "AI_hub_tweater_talk = pd.read_excel('kkangtongData/트위터_대화시나리오DB_2000Set.xlsx', engine='openpyxl', header=None, usecols='A:H')"
   ]
  },
  {
   "cell_type": "code",
   "execution_count": 24,
   "id": "secure-ribbon",
   "metadata": {
    "collapsed": true
   },
   "outputs": [
    {
     "data": {
      "text/html": [
       "<div>\n",
       "<style scoped>\n",
       "    .dataframe tbody tr th:only-of-type {\n",
       "        vertical-align: middle;\n",
       "    }\n",
       "\n",
       "    .dataframe tbody tr th {\n",
       "        vertical-align: top;\n",
       "    }\n",
       "\n",
       "    .dataframe thead th {\n",
       "        text-align: right;\n",
       "    }\n",
       "</style>\n",
       "<table border=\"1\" class=\"dataframe\">\n",
       "  <thead>\n",
       "    <tr style=\"text-align: right;\">\n",
       "      <th></th>\n",
       "      <th>0</th>\n",
       "      <th>1</th>\n",
       "      <th>2</th>\n",
       "      <th>3</th>\n",
       "      <th>4</th>\n",
       "      <th>5</th>\n",
       "      <th>6</th>\n",
       "      <th>7</th>\n",
       "    </tr>\n",
       "  </thead>\n",
       "  <tbody>\n",
       "    <tr>\n",
       "      <th>0</th>\n",
       "      <td>기계식 키보드 써보고 싶어요.</td>\n",
       "      <td>싼 것도 많던데 써보세요. 정말 좋아요.</td>\n",
       "      <td>싼 것도 있나요? 예전에 봤을 땐 다 10만 원이 넘던데요.</td>\n",
       "      <td>이거 쓰는데 예쁘고 딸깍거려요.</td>\n",
       "      <td>우와 진짜 예뻐요.</td>\n",
       "      <td>불 끄면 더 예뻐요.</td>\n",
       "      <td>저런 키보드 처음 봐요. 진짜 예쁘네요.</td>\n",
       "      <td>NaN</td>\n",
       "    </tr>\n",
       "    <tr>\n",
       "      <th>1</th>\n",
       "      <td>기계식 키보드 써보고 싶어요.</td>\n",
       "      <td>싼 것도 많던데 써보세요. 정말 좋아요.</td>\n",
       "      <td>싼 것도 있나요? 예전에 봤을 땐 다 10만 원이 넘던데요.</td>\n",
       "      <td>제 건 5만 원인가? 3만 원인가? 그래요. 근데 좋아요.</td>\n",
       "      <td>오 사볼 만한 가격이네요.</td>\n",
       "      <td>NaN</td>\n",
       "      <td>NaN</td>\n",
       "      <td>NaN</td>\n",
       "    </tr>\n",
       "    <tr>\n",
       "      <th>2</th>\n",
       "      <td>사실 여러 가지 글씨체가 있긴 한데 요즘 글씨를 안 쓰다 보니까 너무 맛 가버렸어요...</td>\n",
       "      <td>글씨 예쁘네요.</td>\n",
       "      <td>아니에요. 요즘 제 글씨 뭔지 너무 모르겠어요.</td>\n",
       "      <td>일정하지 않아도 저 정도면 너무 예쁜 거 아니에요? 난 악필이라서 노트 필기해도 볼...</td>\n",
       "      <td>나 노트필기 진짜 못해요. 맨날 하다가 포기해요.</td>\n",
       "      <td>저도 쓰다 보면 너무 구려서 포기하게 돼요. 그리고 공부도 포기하고요.</td>\n",
       "      <td>맞아요. 아, 노트 필기해야지 하는데 글씨체 마음에 안 들면 바로 포기해요.</td>\n",
       "      <td>NaN</td>\n",
       "    </tr>\n",
       "    <tr>\n",
       "      <th>3</th>\n",
       "      <td>사실 여러 가지 글씨체가 있긴 한데 요즘 글씨를 안 쓰다 보니까 너무 맛 가버렸어요...</td>\n",
       "      <td>글씨 예뻐요.</td>\n",
       "      <td>우앵 아냐 시험 기간 끝나고 글씨 같은 거 안 쓰다 보니까 점점 망해가고 있어요.</td>\n",
       "      <td>나도요.</td>\n",
       "      <td>시험 끝나고 펜 잡는 거 너무 힘들어요. 수업 집중도 안 되고요. 흑흑</td>\n",
       "      <td>우린 시험 끝나고 행사가 너무 많아서 계속 노는 중이에요.</td>\n",
       "      <td>와 부러워요. 놀고 싶어요.</td>\n",
       "      <td>수련회 끝나면 모의고사 준비해야 돼요.</td>\n",
       "    </tr>\n",
       "    <tr>\n",
       "      <th>4</th>\n",
       "      <td>목 캔디 얼마죠?</td>\n",
       "      <td>700원이요.</td>\n",
       "      <td>그런가요? 응사할 때 목 캔디 드시는 분도 있다기에 나눔 해볼까 했는데 가격 멋지군요.</td>\n",
       "      <td>어…. 곽으로 든 게 700원이고요. 낱개 포장된 건 한 3만 원어치 샀다가 목요일...</td>\n",
       "      <td>그러셨군요. 가격은 3만 원 정도면 되는군요. 알려주셔서 감사해요</td>\n",
       "      <td>정확한 게 아니라. 큰 봉지 여러 개 든 거로 6봉지 가져갔었어요.</td>\n",
       "      <td>그러셨군요. 6봉지나</td>\n",
       "      <td>그렇게 많을 줄 몰라서.. 세네 봉지만 사셔도 될 거예요.</td>\n",
       "    </tr>\n",
       "  </tbody>\n",
       "</table>\n",
       "</div>"
      ],
      "text/plain": [
       "                                                   0                       1  \\\n",
       "0                                   기계식 키보드 써보고 싶어요.  싼 것도 많던데 써보세요. 정말 좋아요.   \n",
       "1                                   기계식 키보드 써보고 싶어요.  싼 것도 많던데 써보세요. 정말 좋아요.   \n",
       "2  사실 여러 가지 글씨체가 있긴 한데 요즘 글씨를 안 쓰다 보니까 너무 맛 가버렸어요...                글씨 예쁘네요.   \n",
       "3  사실 여러 가지 글씨체가 있긴 한데 요즘 글씨를 안 쓰다 보니까 너무 맛 가버렸어요...                 글씨 예뻐요.   \n",
       "4                                          목 캔디 얼마죠?                 700원이요.   \n",
       "\n",
       "                                                  2  \\\n",
       "0                 싼 것도 있나요? 예전에 봤을 땐 다 10만 원이 넘던데요.   \n",
       "1                 싼 것도 있나요? 예전에 봤을 땐 다 10만 원이 넘던데요.   \n",
       "2                        아니에요. 요즘 제 글씨 뭔지 너무 모르겠어요.   \n",
       "3     우앵 아냐 시험 기간 끝나고 글씨 같은 거 안 쓰다 보니까 점점 망해가고 있어요.   \n",
       "4  그런가요? 응사할 때 목 캔디 드시는 분도 있다기에 나눔 해볼까 했는데 가격 멋지군요.   \n",
       "\n",
       "                                                   3  \\\n",
       "0                                  이거 쓰는데 예쁘고 딸깍거려요.   \n",
       "1                   제 건 5만 원인가? 3만 원인가? 그래요. 근데 좋아요.   \n",
       "2  일정하지 않아도 저 정도면 너무 예쁜 거 아니에요? 난 악필이라서 노트 필기해도 볼...   \n",
       "3                                               나도요.   \n",
       "4  어…. 곽으로 든 게 700원이고요. 낱개 포장된 건 한 3만 원어치 샀다가 목요일...   \n",
       "\n",
       "                                         4  \\\n",
       "0                               우와 진짜 예뻐요.   \n",
       "1                           오 사볼 만한 가격이네요.   \n",
       "2              나 노트필기 진짜 못해요. 맨날 하다가 포기해요.   \n",
       "3  시험 끝나고 펜 잡는 거 너무 힘들어요. 수업 집중도 안 되고요. 흑흑   \n",
       "4     그러셨군요. 가격은 3만 원 정도면 되는군요. 알려주셔서 감사해요   \n",
       "\n",
       "                                         5  \\\n",
       "0                              불 끄면 더 예뻐요.   \n",
       "1                                      NaN   \n",
       "2  저도 쓰다 보면 너무 구려서 포기하게 돼요. 그리고 공부도 포기하고요.   \n",
       "3         우린 시험 끝나고 행사가 너무 많아서 계속 노는 중이에요.   \n",
       "4    정확한 게 아니라. 큰 봉지 여러 개 든 거로 6봉지 가져갔었어요.   \n",
       "\n",
       "                                            6  \\\n",
       "0                      저런 키보드 처음 봐요. 진짜 예쁘네요.   \n",
       "1                                         NaN   \n",
       "2  맞아요. 아, 노트 필기해야지 하는데 글씨체 마음에 안 들면 바로 포기해요.   \n",
       "3                             와 부러워요. 놀고 싶어요.   \n",
       "4                                 그러셨군요. 6봉지나   \n",
       "\n",
       "                                  7  \n",
       "0                               NaN  \n",
       "1                               NaN  \n",
       "2                               NaN  \n",
       "3             수련회 끝나면 모의고사 준비해야 돼요.  \n",
       "4  그렇게 많을 줄 몰라서.. 세네 봉지만 사셔도 될 거예요.  "
      ]
     },
     "execution_count": 24,
     "metadata": {},
     "output_type": "execute_result"
    }
   ],
   "source": [
    "AI_hub_tweater_talk.head()"
   ]
  },
  {
   "cell_type": "code",
   "execution_count": 25,
   "id": "dying-battery",
   "metadata": {},
   "outputs": [],
   "source": [
    "Aihub_v1 = AI_hub_tweater_talk.iloc"
   ]
  },
  {
   "cell_type": "code",
   "execution_count": 30,
   "id": "governing-architecture",
   "metadata": {},
   "outputs": [],
   "source": [
    "AI_hub_tweater_talk.drop_duplicates([0], inplace = True)"
   ]
  },
  {
   "cell_type": "code",
   "execution_count": 34,
   "id": "realistic-decrease",
   "metadata": {},
   "outputs": [],
   "source": [
    "AI_hub_tweater_talk.reset_index(drop=True, inplace = True)"
   ]
  },
  {
   "cell_type": "code",
   "execution_count": 35,
   "id": "surface-avatar",
   "metadata": {
    "collapsed": true
   },
   "outputs": [
    {
     "data": {
      "text/html": [
       "<div>\n",
       "<style scoped>\n",
       "    .dataframe tbody tr th:only-of-type {\n",
       "        vertical-align: middle;\n",
       "    }\n",
       "\n",
       "    .dataframe tbody tr th {\n",
       "        vertical-align: top;\n",
       "    }\n",
       "\n",
       "    .dataframe thead th {\n",
       "        text-align: right;\n",
       "    }\n",
       "</style>\n",
       "<table border=\"1\" class=\"dataframe\">\n",
       "  <thead>\n",
       "    <tr style=\"text-align: right;\">\n",
       "      <th></th>\n",
       "      <th>0</th>\n",
       "      <th>1</th>\n",
       "      <th>2</th>\n",
       "      <th>3</th>\n",
       "      <th>4</th>\n",
       "      <th>5</th>\n",
       "      <th>6</th>\n",
       "      <th>7</th>\n",
       "    </tr>\n",
       "  </thead>\n",
       "  <tbody>\n",
       "    <tr>\n",
       "      <th>0</th>\n",
       "      <td>기계식 키보드 써보고 싶어요.</td>\n",
       "      <td>싼 것도 많던데 써보세요. 정말 좋아요.</td>\n",
       "      <td>싼 것도 있나요? 예전에 봤을 땐 다 10만 원이 넘던데요.</td>\n",
       "      <td>이거 쓰는데 예쁘고 딸깍거려요.</td>\n",
       "      <td>우와 진짜 예뻐요.</td>\n",
       "      <td>불 끄면 더 예뻐요.</td>\n",
       "      <td>저런 키보드 처음 봐요. 진짜 예쁘네요.</td>\n",
       "      <td>NaN</td>\n",
       "    </tr>\n",
       "    <tr>\n",
       "      <th>1</th>\n",
       "      <td>사실 여러 가지 글씨체가 있긴 한데 요즘 글씨를 안 쓰다 보니까 너무 맛 가버렸어요...</td>\n",
       "      <td>글씨 예쁘네요.</td>\n",
       "      <td>아니에요. 요즘 제 글씨 뭔지 너무 모르겠어요.</td>\n",
       "      <td>일정하지 않아도 저 정도면 너무 예쁜 거 아니에요? 난 악필이라서 노트 필기해도 볼...</td>\n",
       "      <td>나 노트필기 진짜 못해요. 맨날 하다가 포기해요.</td>\n",
       "      <td>저도 쓰다 보면 너무 구려서 포기하게 돼요. 그리고 공부도 포기하고요.</td>\n",
       "      <td>맞아요. 아, 노트 필기해야지 하는데 글씨체 마음에 안 들면 바로 포기해요.</td>\n",
       "      <td>NaN</td>\n",
       "    </tr>\n",
       "    <tr>\n",
       "      <th>2</th>\n",
       "      <td>목 캔디 얼마죠?</td>\n",
       "      <td>700원이요.</td>\n",
       "      <td>그런가요? 응사할 때 목 캔디 드시는 분도 있다기에 나눔 해볼까 했는데 가격 멋지군요.</td>\n",
       "      <td>어…. 곽으로 든 게 700원이고요. 낱개 포장된 건 한 3만 원어치 샀다가 목요일...</td>\n",
       "      <td>그러셨군요. 가격은 3만 원 정도면 되는군요. 알려주셔서 감사해요</td>\n",
       "      <td>정확한 게 아니라. 큰 봉지 여러 개 든 거로 6봉지 가져갔었어요.</td>\n",
       "      <td>그러셨군요. 6봉지나</td>\n",
       "      <td>그렇게 많을 줄 몰라서.. 세네 봉지만 사셔도 될 거예요.</td>\n",
       "    </tr>\n",
       "    <tr>\n",
       "      <th>3</th>\n",
       "      <td>수요미식회 민호 실화에요?</td>\n",
       "      <td>다음 주요?</td>\n",
       "      <td>네 그런가 봐요! 예고 편에 나왔나 봐요.</td>\n",
       "      <td>우리 민호 맛난 거 먹으러 갔군요! 요즘만 같으면 애들 안정된 느낌이고 좋네요.</td>\n",
       "      <td>네! 다들 자리에서 바쁘네요. 그렇지만 같이 밥도 먹고 글도 남기기도 하고 좋아요 ...</td>\n",
       "      <td>좋겠네요 그 파티도 가고 대체 얼마 만이에요…. 부럽네요. 누나 자리 구해서 너무 ...</td>\n",
       "      <td>네 감사해요. 진짜 작년 손꼽게 본 것 같아요. 사는 게 뭔지 어휴 정말 사는 거 ...</td>\n",
       "      <td>NaN</td>\n",
       "    </tr>\n",
       "    <tr>\n",
       "      <th>4</th>\n",
       "      <td>여러분! 보험 가입할 때 선물로 뭐 받으면 좋을 거 같아요?</td>\n",
       "      <td>사은품 고르시는 건가요?</td>\n",
       "      <td>네. 보험 사은품이요.</td>\n",
       "      <td>NaN</td>\n",
       "      <td>NaN</td>\n",
       "      <td>NaN</td>\n",
       "      <td>NaN</td>\n",
       "      <td>NaN</td>\n",
       "    </tr>\n",
       "    <tr>\n",
       "      <th>...</th>\n",
       "      <td>...</td>\n",
       "      <td>...</td>\n",
       "      <td>...</td>\n",
       "      <td>...</td>\n",
       "      <td>...</td>\n",
       "      <td>...</td>\n",
       "      <td>...</td>\n",
       "      <td>...</td>\n",
       "    </tr>\n",
       "    <tr>\n",
       "      <th>1529</th>\n",
       "      <td>욜로는 왜 갑자기 유행어가 되었는지 민망스러워요.</td>\n",
       "      <td>무한도전에서 나왔거든요. YOLO 하면서 막 카드 쓰고 돌아다녔어요.</td>\n",
       "      <td>저도 그건 봤는데, 한국에서 욜로가 갑자기 유행해서 좀 의아했거든요. 티브이 프로그...</td>\n",
       "      <td>저도 돌아다니다 보면 가게 상호명에도 욜라가 눈에 많이 띄어서 약간 민망했는데, 무...</td>\n",
       "      <td>네. 좀 오래된 유행어인데, 왜 한국에서 갑자기 이렇게 붐이 일었는지 머리 말리면서...</td>\n",
       "      <td>그때도 외국에서 한물간 유형어를 가져다가 상호를 바꿀까요? 아니면 그전에 가게가 폐...</td>\n",
       "      <td>NaN</td>\n",
       "      <td>NaN</td>\n",
       "    </tr>\n",
       "    <tr>\n",
       "      <th>1530</th>\n",
       "      <td>옥동식 인테리어 마음에 들어요. 특히 가게 위치와 크기, 배치는 내가 늘 꿈꾸던 것...</td>\n",
       "      <td>설거지하는 초보 막내에게 주 5일 하루 10시간 근무에 120만원 전후로 주면 현실...</td>\n",
       "      <td>먹어 보고 싶다는 느낌을 주는 식당이에요.</td>\n",
       "      <td>하지만 나는 돼지국밥 싫어하죠.</td>\n",
       "      <td>이렇게 말하면 흥분하는 사람 여럿 알아요.</td>\n",
       "      <td>NaN</td>\n",
       "      <td>NaN</td>\n",
       "      <td>NaN</td>\n",
       "    </tr>\n",
       "    <tr>\n",
       "      <th>1531</th>\n",
       "      <td>가게 인테리어가 예쁘네요.</td>\n",
       "      <td>드라이플라워네요.</td>\n",
       "      <td>가게 인테리어인데 드라이플라워가 참 많아요!</td>\n",
       "      <td>신기한 곳이네요. 근데 서울이 아니겠지요?</td>\n",
       "      <td>천안이에요. 집 근처에 있는 개인 가게에요!</td>\n",
       "      <td>우와, 멋지네요. 멋진 가게 아닌가요?</td>\n",
       "      <td>멋진 가게에요. 음식도 맛있어요.</td>\n",
       "      <td>부럽네요. 양재는 회사 촌이라 맛있는 곳 찾기 힘들어요.</td>\n",
       "    </tr>\n",
       "    <tr>\n",
       "      <th>1532</th>\n",
       "      <td>식중독 조심하세요.</td>\n",
       "      <td>식중독 걸렸어요?</td>\n",
       "      <td>회사에서 먹은 두부가 이상했나 봐요. 후임도 탈났다는데 난 약 먹고 주사 맞고 괜찮...</td>\n",
       "      <td>주말에 고생했네요. 얼른 나으세요.</td>\n",
       "      <td>네. 항상 조심하세요. 카페 갈 거예요?</td>\n",
       "      <td>갈까 말까 고민 중이에요.</td>\n",
       "      <td>나도 고민 중인데 가게 되면 같이 가요.</td>\n",
       "      <td>좋아요. 그 때는 돈 많이 벌어가야겠어요.</td>\n",
       "    </tr>\n",
       "    <tr>\n",
       "      <th>1533</th>\n",
       "      <td>좋은 아파트에 살려는 걸 무슨 욕망의 노예로 보는 사람들이 종종 있어요. 그러나 공...</td>\n",
       "      <td>개인적으로 주차공간이 주택이나 빌라에 비하면 많다는 점에서도 아파트를 희망하는 편이죠.</td>\n",
       "      <td>그 부분도 큰 장점이죠.</td>\n",
       "      <td>NaN</td>\n",
       "      <td>NaN</td>\n",
       "      <td>NaN</td>\n",
       "      <td>NaN</td>\n",
       "      <td>NaN</td>\n",
       "    </tr>\n",
       "  </tbody>\n",
       "</table>\n",
       "<p>1534 rows × 8 columns</p>\n",
       "</div>"
      ],
      "text/plain": [
       "                                                      0  \\\n",
       "0                                      기계식 키보드 써보고 싶어요.   \n",
       "1     사실 여러 가지 글씨체가 있긴 한데 요즘 글씨를 안 쓰다 보니까 너무 맛 가버렸어요...   \n",
       "2                                             목 캔디 얼마죠?   \n",
       "3                                        수요미식회 민호 실화에요?   \n",
       "4                     여러분! 보험 가입할 때 선물로 뭐 받으면 좋을 거 같아요?   \n",
       "...                                                 ...   \n",
       "1529                       욜로는 왜 갑자기 유행어가 되었는지 민망스러워요.    \n",
       "1530  옥동식 인테리어 마음에 들어요. 특히 가게 위치와 크기, 배치는 내가 늘 꿈꾸던 것...   \n",
       "1531                                     가게 인테리어가 예쁘네요.   \n",
       "1532                                         식중독 조심하세요.   \n",
       "1533  좋은 아파트에 살려는 걸 무슨 욕망의 노예로 보는 사람들이 종종 있어요. 그러나 공...   \n",
       "\n",
       "                                                      1  \\\n",
       "0                                싼 것도 많던데 써보세요. 정말 좋아요.   \n",
       "1                                              글씨 예쁘네요.   \n",
       "2                                               700원이요.   \n",
       "3                                                다음 주요?   \n",
       "4                                         사은품 고르시는 건가요?   \n",
       "...                                                 ...   \n",
       "1529            무한도전에서 나왔거든요. YOLO 하면서 막 카드 쓰고 돌아다녔어요.    \n",
       "1530  설거지하는 초보 막내에게 주 5일 하루 10시간 근무에 120만원 전후로 주면 현실...   \n",
       "1531                                          드라이플라워네요.   \n",
       "1532                                          식중독 걸렸어요?   \n",
       "1533  개인적으로 주차공간이 주택이나 빌라에 비하면 많다는 점에서도 아파트를 희망하는 편이죠.    \n",
       "\n",
       "                                                      2  \\\n",
       "0                     싼 것도 있나요? 예전에 봤을 땐 다 10만 원이 넘던데요.   \n",
       "1                            아니에요. 요즘 제 글씨 뭔지 너무 모르겠어요.   \n",
       "2      그런가요? 응사할 때 목 캔디 드시는 분도 있다기에 나눔 해볼까 했는데 가격 멋지군요.   \n",
       "3                               네 그런가 봐요! 예고 편에 나왔나 봐요.   \n",
       "4                                          네. 보험 사은품이요.   \n",
       "...                                                 ...   \n",
       "1529  저도 그건 봤는데, 한국에서 욜로가 갑자기 유행해서 좀 의아했거든요. 티브이 프로그...   \n",
       "1530                           먹어 보고 싶다는 느낌을 주는 식당이에요.    \n",
       "1531                          가게 인테리어인데 드라이플라워가 참 많아요!    \n",
       "1532  회사에서 먹은 두부가 이상했나 봐요. 후임도 탈났다는데 난 약 먹고 주사 맞고 괜찮...   \n",
       "1533                                     그 부분도 큰 장점이죠.    \n",
       "\n",
       "                                                      3  \\\n",
       "0                                     이거 쓰는데 예쁘고 딸깍거려요.   \n",
       "1     일정하지 않아도 저 정도면 너무 예쁜 거 아니에요? 난 악필이라서 노트 필기해도 볼...   \n",
       "2     어…. 곽으로 든 게 700원이고요. 낱개 포장된 건 한 3만 원어치 샀다가 목요일...   \n",
       "3          우리 민호 맛난 거 먹으러 갔군요! 요즘만 같으면 애들 안정된 느낌이고 좋네요.   \n",
       "4                                                   NaN   \n",
       "...                                                 ...   \n",
       "1529  저도 돌아다니다 보면 가게 상호명에도 욜라가 눈에 많이 띄어서 약간 민망했는데, 무...   \n",
       "1530                                 하지만 나는 돼지국밥 싫어하죠.    \n",
       "1531                           신기한 곳이네요. 근데 서울이 아니겠지요?    \n",
       "1532                                주말에 고생했네요. 얼른 나으세요.   \n",
       "1533                                                NaN   \n",
       "\n",
       "                                                      4  \\\n",
       "0                                            우와 진짜 예뻐요.   \n",
       "1                           나 노트필기 진짜 못해요. 맨날 하다가 포기해요.   \n",
       "2                  그러셨군요. 가격은 3만 원 정도면 되는군요. 알려주셔서 감사해요   \n",
       "3     네! 다들 자리에서 바쁘네요. 그렇지만 같이 밥도 먹고 글도 남기기도 하고 좋아요 ...   \n",
       "4                                                   NaN   \n",
       "...                                                 ...   \n",
       "1529  네. 좀 오래된 유행어인데, 왜 한국에서 갑자기 이렇게 붐이 일었는지 머리 말리면서...   \n",
       "1530                            이렇게 말하면 흥분하는 사람 여럿 알아요.   \n",
       "1531                           천안이에요. 집 근처에 있는 개인 가게에요!   \n",
       "1532                             네. 항상 조심하세요. 카페 갈 거예요?   \n",
       "1533                                                NaN   \n",
       "\n",
       "                                                      5  \\\n",
       "0                                           불 끄면 더 예뻐요.   \n",
       "1               저도 쓰다 보면 너무 구려서 포기하게 돼요. 그리고 공부도 포기하고요.   \n",
       "2                 정확한 게 아니라. 큰 봉지 여러 개 든 거로 6봉지 가져갔었어요.   \n",
       "3     좋겠네요 그 파티도 가고 대체 얼마 만이에요…. 부럽네요. 누나 자리 구해서 너무 ...   \n",
       "4                                                   NaN   \n",
       "...                                                 ...   \n",
       "1529  그때도 외국에서 한물간 유형어를 가져다가 상호를 바꿀까요? 아니면 그전에 가게가 폐...   \n",
       "1530                                                NaN   \n",
       "1531                              우와, 멋지네요. 멋진 가게 아닌가요?   \n",
       "1532                                     갈까 말까 고민 중이에요.   \n",
       "1533                                                NaN   \n",
       "\n",
       "                                                      6  \\\n",
       "0                                저런 키보드 처음 봐요. 진짜 예쁘네요.   \n",
       "1            맞아요. 아, 노트 필기해야지 하는데 글씨체 마음에 안 들면 바로 포기해요.   \n",
       "2                                           그러셨군요. 6봉지나   \n",
       "3     네 감사해요. 진짜 작년 손꼽게 본 것 같아요. 사는 게 뭔지 어휴 정말 사는 거 ...   \n",
       "4                                                   NaN   \n",
       "...                                                 ...   \n",
       "1529                                                NaN   \n",
       "1530                                                NaN   \n",
       "1531                                멋진 가게에요. 음식도 맛있어요.    \n",
       "1532                             나도 고민 중인데 가게 되면 같이 가요.   \n",
       "1533                                                NaN   \n",
       "\n",
       "                                     7  \n",
       "0                                  NaN  \n",
       "1                                  NaN  \n",
       "2     그렇게 많을 줄 몰라서.. 세네 봉지만 사셔도 될 거예요.  \n",
       "3                                  NaN  \n",
       "4                                  NaN  \n",
       "...                                ...  \n",
       "1529                               NaN  \n",
       "1530                               NaN  \n",
       "1531   부럽네요. 양재는 회사 촌이라 맛있는 곳 찾기 힘들어요.  \n",
       "1532           좋아요. 그 때는 돈 많이 벌어가야겠어요.  \n",
       "1533                               NaN  \n",
       "\n",
       "[1534 rows x 8 columns]"
      ]
     },
     "execution_count": 35,
     "metadata": {},
     "output_type": "execute_result"
    }
   ],
   "source": [
    "AI_hub_tweater_talk"
   ]
  },
  {
   "cell_type": "code",
   "execution_count": 36,
   "id": "different-salon",
   "metadata": {},
   "outputs": [],
   "source": [
    "AI_hub_tt_train = AI_hub_tweater_talk.iloc[:,:2]"
   ]
  },
  {
   "cell_type": "code",
   "execution_count": 39,
   "id": "polish-microwave",
   "metadata": {},
   "outputs": [
    {
     "name": "stderr",
     "output_type": "stream",
     "text": [
      "C:\\Users\\USER\\Anaconda3\\lib\\site-packages\\pandas\\core\\frame.py:4308: SettingWithCopyWarning: \n",
      "A value is trying to be set on a copy of a slice from a DataFrame\n",
      "\n",
      "See the caveats in the documentation: https://pandas.pydata.org/pandas-docs/stable/user_guide/indexing.html#returning-a-view-versus-a-copy\n",
      "  errors=errors,\n"
     ]
    }
   ],
   "source": [
    "AI_hub_tt_train.rename(columns={0:'Q',1:'A'}, inplace = True)"
   ]
  },
  {
   "cell_type": "code",
   "execution_count": 42,
   "id": "knowing-lunch",
   "metadata": {},
   "outputs": [],
   "source": [
    "AI_hub_tt_train.to_csv('AI_hub_tt_train.csv')"
   ]
  },
  {
   "cell_type": "markdown",
   "id": "swiss-profile",
   "metadata": {},
   "source": [
    "# Ai hub V2"
   ]
  },
  {
   "cell_type": "code",
   "execution_count": 45,
   "id": "collective-discussion",
   "metadata": {
    "collapsed": true
   },
   "outputs": [
    {
     "data": {
      "text/html": [
       "<div>\n",
       "<style scoped>\n",
       "    .dataframe tbody tr th:only-of-type {\n",
       "        vertical-align: middle;\n",
       "    }\n",
       "\n",
       "    .dataframe tbody tr th {\n",
       "        vertical-align: top;\n",
       "    }\n",
       "\n",
       "    .dataframe thead th {\n",
       "        text-align: right;\n",
       "    }\n",
       "</style>\n",
       "<table border=\"1\" class=\"dataframe\">\n",
       "  <thead>\n",
       "    <tr style=\"text-align: right;\">\n",
       "      <th></th>\n",
       "      <th>0</th>\n",
       "      <th>1</th>\n",
       "      <th>2</th>\n",
       "      <th>3</th>\n",
       "      <th>4</th>\n",
       "      <th>5</th>\n",
       "      <th>6</th>\n",
       "      <th>7</th>\n",
       "    </tr>\n",
       "  </thead>\n",
       "  <tbody>\n",
       "    <tr>\n",
       "      <th>0</th>\n",
       "      <td>기계식 키보드 써보고 싶어요.</td>\n",
       "      <td>싼 것도 많던데 써보세요. 정말 좋아요.</td>\n",
       "      <td>싼 것도 있나요? 예전에 봤을 땐 다 10만 원이 넘던데요.</td>\n",
       "      <td>이거 쓰는데 예쁘고 딸깍거려요.</td>\n",
       "      <td>우와 진짜 예뻐요.</td>\n",
       "      <td>불 끄면 더 예뻐요.</td>\n",
       "      <td>저런 키보드 처음 봐요. 진짜 예쁘네요.</td>\n",
       "      <td>NaN</td>\n",
       "    </tr>\n",
       "    <tr>\n",
       "      <th>1</th>\n",
       "      <td>사실 여러 가지 글씨체가 있긴 한데 요즘 글씨를 안 쓰다 보니까 너무 맛 가버렸어요...</td>\n",
       "      <td>글씨 예쁘네요.</td>\n",
       "      <td>아니에요. 요즘 제 글씨 뭔지 너무 모르겠어요.</td>\n",
       "      <td>일정하지 않아도 저 정도면 너무 예쁜 거 아니에요? 난 악필이라서 노트 필기해도 볼...</td>\n",
       "      <td>나 노트필기 진짜 못해요. 맨날 하다가 포기해요.</td>\n",
       "      <td>저도 쓰다 보면 너무 구려서 포기하게 돼요. 그리고 공부도 포기하고요.</td>\n",
       "      <td>맞아요. 아, 노트 필기해야지 하는데 글씨체 마음에 안 들면 바로 포기해요.</td>\n",
       "      <td>NaN</td>\n",
       "    </tr>\n",
       "    <tr>\n",
       "      <th>2</th>\n",
       "      <td>목 캔디 얼마죠?</td>\n",
       "      <td>700원이요.</td>\n",
       "      <td>그런가요? 응사할 때 목 캔디 드시는 분도 있다기에 나눔 해볼까 했는데 가격 멋지군요.</td>\n",
       "      <td>어…. 곽으로 든 게 700원이고요. 낱개 포장된 건 한 3만 원어치 샀다가 목요일...</td>\n",
       "      <td>그러셨군요. 가격은 3만 원 정도면 되는군요. 알려주셔서 감사해요</td>\n",
       "      <td>정확한 게 아니라. 큰 봉지 여러 개 든 거로 6봉지 가져갔었어요.</td>\n",
       "      <td>그러셨군요. 6봉지나</td>\n",
       "      <td>그렇게 많을 줄 몰라서.. 세네 봉지만 사셔도 될 거예요.</td>\n",
       "    </tr>\n",
       "    <tr>\n",
       "      <th>3</th>\n",
       "      <td>수요미식회 민호 실화에요?</td>\n",
       "      <td>다음 주요?</td>\n",
       "      <td>네 그런가 봐요! 예고 편에 나왔나 봐요.</td>\n",
       "      <td>우리 민호 맛난 거 먹으러 갔군요! 요즘만 같으면 애들 안정된 느낌이고 좋네요.</td>\n",
       "      <td>네! 다들 자리에서 바쁘네요. 그렇지만 같이 밥도 먹고 글도 남기기도 하고 좋아요 ...</td>\n",
       "      <td>좋겠네요 그 파티도 가고 대체 얼마 만이에요…. 부럽네요. 누나 자리 구해서 너무 ...</td>\n",
       "      <td>네 감사해요. 진짜 작년 손꼽게 본 것 같아요. 사는 게 뭔지 어휴 정말 사는 거 ...</td>\n",
       "      <td>NaN</td>\n",
       "    </tr>\n",
       "    <tr>\n",
       "      <th>4</th>\n",
       "      <td>여러분! 보험 가입할 때 선물로 뭐 받으면 좋을 거 같아요?</td>\n",
       "      <td>사은품 고르시는 건가요?</td>\n",
       "      <td>네. 보험 사은품이요.</td>\n",
       "      <td>NaN</td>\n",
       "      <td>NaN</td>\n",
       "      <td>NaN</td>\n",
       "      <td>NaN</td>\n",
       "      <td>NaN</td>\n",
       "    </tr>\n",
       "  </tbody>\n",
       "</table>\n",
       "</div>"
      ],
      "text/plain": [
       "                                                   0                       1  \\\n",
       "0                                   기계식 키보드 써보고 싶어요.  싼 것도 많던데 써보세요. 정말 좋아요.   \n",
       "1  사실 여러 가지 글씨체가 있긴 한데 요즘 글씨를 안 쓰다 보니까 너무 맛 가버렸어요...                글씨 예쁘네요.   \n",
       "2                                          목 캔디 얼마죠?                 700원이요.   \n",
       "3                                     수요미식회 민호 실화에요?                  다음 주요?   \n",
       "4                  여러분! 보험 가입할 때 선물로 뭐 받으면 좋을 거 같아요?           사은품 고르시는 건가요?   \n",
       "\n",
       "                                                  2  \\\n",
       "0                 싼 것도 있나요? 예전에 봤을 땐 다 10만 원이 넘던데요.   \n",
       "1                        아니에요. 요즘 제 글씨 뭔지 너무 모르겠어요.   \n",
       "2  그런가요? 응사할 때 목 캔디 드시는 분도 있다기에 나눔 해볼까 했는데 가격 멋지군요.   \n",
       "3                           네 그런가 봐요! 예고 편에 나왔나 봐요.   \n",
       "4                                      네. 보험 사은품이요.   \n",
       "\n",
       "                                                   3  \\\n",
       "0                                  이거 쓰는데 예쁘고 딸깍거려요.   \n",
       "1  일정하지 않아도 저 정도면 너무 예쁜 거 아니에요? 난 악필이라서 노트 필기해도 볼...   \n",
       "2  어…. 곽으로 든 게 700원이고요. 낱개 포장된 건 한 3만 원어치 샀다가 목요일...   \n",
       "3       우리 민호 맛난 거 먹으러 갔군요! 요즘만 같으면 애들 안정된 느낌이고 좋네요.   \n",
       "4                                                NaN   \n",
       "\n",
       "                                                   4  \\\n",
       "0                                         우와 진짜 예뻐요.   \n",
       "1                        나 노트필기 진짜 못해요. 맨날 하다가 포기해요.   \n",
       "2               그러셨군요. 가격은 3만 원 정도면 되는군요. 알려주셔서 감사해요   \n",
       "3  네! 다들 자리에서 바쁘네요. 그렇지만 같이 밥도 먹고 글도 남기기도 하고 좋아요 ...   \n",
       "4                                                NaN   \n",
       "\n",
       "                                                   5  \\\n",
       "0                                        불 끄면 더 예뻐요.   \n",
       "1            저도 쓰다 보면 너무 구려서 포기하게 돼요. 그리고 공부도 포기하고요.   \n",
       "2              정확한 게 아니라. 큰 봉지 여러 개 든 거로 6봉지 가져갔었어요.   \n",
       "3  좋겠네요 그 파티도 가고 대체 얼마 만이에요…. 부럽네요. 누나 자리 구해서 너무 ...   \n",
       "4                                                NaN   \n",
       "\n",
       "                                                   6  \\\n",
       "0                             저런 키보드 처음 봐요. 진짜 예쁘네요.   \n",
       "1         맞아요. 아, 노트 필기해야지 하는데 글씨체 마음에 안 들면 바로 포기해요.   \n",
       "2                                        그러셨군요. 6봉지나   \n",
       "3  네 감사해요. 진짜 작년 손꼽게 본 것 같아요. 사는 게 뭔지 어휴 정말 사는 거 ...   \n",
       "4                                                NaN   \n",
       "\n",
       "                                  7  \n",
       "0                               NaN  \n",
       "1                               NaN  \n",
       "2  그렇게 많을 줄 몰라서.. 세네 봉지만 사셔도 될 거예요.  \n",
       "3                               NaN  \n",
       "4                               NaN  "
      ]
     },
     "execution_count": 45,
     "metadata": {},
     "output_type": "execute_result"
    }
   ],
   "source": [
    "AI_hub_tweater_talk.head()"
   ]
  },
  {
   "cell_type": "code",
   "execution_count": 62,
   "id": "architectural-underground",
   "metadata": {},
   "outputs": [],
   "source": [
    "AI_hub_tt_train_v2 = AI_hub_tweater_talk.iloc[:,2:4]"
   ]
  },
  {
   "cell_type": "code",
   "execution_count": 63,
   "id": "successful-perry",
   "metadata": {},
   "outputs": [
    {
     "name": "stderr",
     "output_type": "stream",
     "text": [
      "C:\\Users\\USER\\Anaconda3\\lib\\site-packages\\ipykernel_launcher.py:1: SettingWithCopyWarning: \n",
      "A value is trying to be set on a copy of a slice from a DataFrame\n",
      "\n",
      "See the caveats in the documentation: https://pandas.pydata.org/pandas-docs/stable/user_guide/indexing.html#returning-a-view-versus-a-copy\n",
      "  \"\"\"Entry point for launching an IPython kernel.\n"
     ]
    }
   ],
   "source": [
    "AI_hub_tt_train_v2.dropna(subset=[3],inplace = True)"
   ]
  },
  {
   "cell_type": "code",
   "execution_count": 64,
   "id": "entertaining-fifteen",
   "metadata": {},
   "outputs": [],
   "source": [
    "AI_hub_tt_train_v2.reset_index(drop=True, inplace = True)"
   ]
  },
  {
   "cell_type": "code",
   "execution_count": 65,
   "id": "worth-authority",
   "metadata": {},
   "outputs": [
    {
     "name": "stderr",
     "output_type": "stream",
     "text": [
      "C:\\Users\\USER\\Anaconda3\\lib\\site-packages\\pandas\\core\\frame.py:4308: SettingWithCopyWarning: \n",
      "A value is trying to be set on a copy of a slice from a DataFrame\n",
      "\n",
      "See the caveats in the documentation: https://pandas.pydata.org/pandas-docs/stable/user_guide/indexing.html#returning-a-view-versus-a-copy\n",
      "  errors=errors,\n"
     ]
    }
   ],
   "source": [
    "AI_hub_tt_train_v2.rename(columns={2:'Q',3:'A'},inplace = True)"
   ]
  },
  {
   "cell_type": "code",
   "execution_count": 66,
   "id": "comparative-dynamics",
   "metadata": {},
   "outputs": [],
   "source": [
    "AI_hub_tt_train_v2.to_csv('AI_hub_tt_train_v2.csv')"
   ]
  },
  {
   "cell_type": "markdown",
   "id": "civic-moscow",
   "metadata": {},
   "source": [
    "# Ai hub V3"
   ]
  },
  {
   "cell_type": "code",
   "execution_count": 61,
   "id": "advance-marine",
   "metadata": {},
   "outputs": [],
   "source": [
    "AI_hub_tt_train_v3 = AI_hub_tweater_talk.iloc[:,4:6]"
   ]
  },
  {
   "cell_type": "code",
   "execution_count": 69,
   "id": "southeast-hunter",
   "metadata": {},
   "outputs": [
    {
     "name": "stderr",
     "output_type": "stream",
     "text": [
      "C:\\Users\\USER\\Anaconda3\\lib\\site-packages\\ipykernel_launcher.py:1: SettingWithCopyWarning: \n",
      "A value is trying to be set on a copy of a slice from a DataFrame\n",
      "\n",
      "See the caveats in the documentation: https://pandas.pydata.org/pandas-docs/stable/user_guide/indexing.html#returning-a-view-versus-a-copy\n",
      "  \"\"\"Entry point for launching an IPython kernel.\n"
     ]
    }
   ],
   "source": [
    "AI_hub_tt_train_v3.dropna(subset=[4,5],inplace = True)"
   ]
  },
  {
   "cell_type": "code",
   "execution_count": 71,
   "id": "enormous-bradford",
   "metadata": {},
   "outputs": [],
   "source": [
    "AI_hub_tt_train_v3.reset_index(drop=True, inplace = True)"
   ]
  },
  {
   "cell_type": "code",
   "execution_count": 72,
   "id": "hungarian-coffee",
   "metadata": {},
   "outputs": [
    {
     "name": "stderr",
     "output_type": "stream",
     "text": [
      "C:\\Users\\USER\\Anaconda3\\lib\\site-packages\\pandas\\core\\frame.py:4308: SettingWithCopyWarning: \n",
      "A value is trying to be set on a copy of a slice from a DataFrame\n",
      "\n",
      "See the caveats in the documentation: https://pandas.pydata.org/pandas-docs/stable/user_guide/indexing.html#returning-a-view-versus-a-copy\n",
      "  errors=errors,\n"
     ]
    }
   ],
   "source": [
    "AI_hub_tt_train_v3.rename(columns={4:'Q',5:'A'},inplace = True)"
   ]
  },
  {
   "cell_type": "code",
   "execution_count": 74,
   "id": "greater-objective",
   "metadata": {},
   "outputs": [],
   "source": [
    "AI_hub_tt_train_v3.to_csv('AI_hub_tt_train_v3.csv')"
   ]
  },
  {
   "cell_type": "markdown",
   "id": "outstanding-wyoming",
   "metadata": {},
   "source": [
    "# Ai hub -> 문장 단축, 호칭 제거"
   ]
  },
  {
   "cell_type": "code",
   "execution_count": 392,
   "id": "pacific-yacht",
   "metadata": {},
   "outputs": [],
   "source": [
    "data = pd.read_csv('Chatbot_data/twit_data2.csv')"
   ]
  },
  {
   "cell_type": "code",
   "execution_count": 393,
   "id": "bigger-requirement",
   "metadata": {},
   "outputs": [],
   "source": [
    "data = data.loc[:,['Q','A']]"
   ]
  },
  {
   "cell_type": "code",
   "execution_count": 194,
   "id": "copyrighted-thread",
   "metadata": {},
   "outputs": [],
   "source": [
    "import re\n",
    "text = re.sub('[?님]','',text)"
   ]
  },
  {
   "cell_type": "code",
   "execution_count": null,
   "id": "fourth-palestine",
   "metadata": {},
   "outputs": [],
   "source": [
    "re.findall(r'\\w+?데[\\b\\W]',data['A'][0])"
   ]
  },
  {
   "cell_type": "code",
   "execution_count": 354,
   "id": "unexpected-permit",
   "metadata": {
    "scrolled": true
   },
   "outputs": [
    {
     "data": {
      "text/plain": [
       "'많던데'"
      ]
     },
     "execution_count": 354,
     "metadata": {},
     "output_type": "execute_result"
    }
   ],
   "source": [
    "re.findall(r'\\w+?데',data['A'][0])[0]"
   ]
  },
  {
   "cell_type": "code",
   "execution_count": 394,
   "id": "important-steal",
   "metadata": {},
   "outputs": [],
   "source": [
    "newQ = []\n",
    "newA = []"
   ]
  },
  {
   "cell_type": "code",
   "execution_count": null,
   "id": "sharp-conservative",
   "metadata": {},
   "outputs": [],
   "source": [
    "data['Q'] = data['Q'].astype('str')"
   ]
  },
  {
   "cell_type": "code",
   "execution_count": 395,
   "id": "human-yahoo",
   "metadata": {
    "scrolled": true
   },
   "outputs": [],
   "source": [
    "for text in data['A']:\n",
    "    \n",
    "    try:\n",
    "        a = re.findall(r'\\w+?님', text)[0]\n",
    "        #print(a)\n",
    "        if a[0] != '':\n",
    "            new = re.sub(a,'',text)\n",
    "            new.strip()\n",
    "            #print(new)\n",
    "            newA.append(new)\n",
    "        \n",
    "    except:\n",
    "        newA.append(text)\n",
    "    "
   ]
  },
  {
   "cell_type": "code",
   "execution_count": 396,
   "id": "wrapped-actor",
   "metadata": {},
   "outputs": [],
   "source": [
    "for text in data['Q']:\n",
    "    \n",
    "    try:\n",
    "        a = re.findall(r'\\w+?님', text)[0]\n",
    "        #print(a)\n",
    "        if a[0] != '':\n",
    "            new = re.sub(a,'',text)\n",
    "            new.strip()\n",
    "            #print(new)\n",
    "            newQ.append(new)\n",
    "        \n",
    "    except:\n",
    "        newQ.append(text)\n",
    "    "
   ]
  },
  {
   "cell_type": "code",
   "execution_count": 397,
   "id": "suited-enhancement",
   "metadata": {
    "scrolled": true
   },
   "outputs": [
    {
     "data": {
      "text/plain": [
       "(1534, 1534)"
      ]
     },
     "execution_count": 397,
     "metadata": {},
     "output_type": "execute_result"
    }
   ],
   "source": [
    "len(newA),len(newQ)"
   ]
  },
  {
   "cell_type": "code",
   "execution_count": 410,
   "id": "liquid-diabetes",
   "metadata": {},
   "outputs": [],
   "source": [
    "newData = pd.DataFrame(newQ, columns={'Q'})"
   ]
  },
  {
   "cell_type": "code",
   "execution_count": 420,
   "id": "affecting-practice",
   "metadata": {},
   "outputs": [],
   "source": [
    "newData.drop_duplicates('Q',inplace = True)"
   ]
  },
  {
   "cell_type": "code",
   "execution_count": 449,
   "id": "multiple-accuracy",
   "metadata": {},
   "outputs": [],
   "source": [
    "newData.to_csv('Chatbot_data/newAI_hub_train.csv')"
   ]
  },
  {
   "cell_type": "code",
   "execution_count": 459,
   "id": "varied-stewart",
   "metadata": {},
   "outputs": [],
   "source": [
    "a = pd.read_csv('Chatbot_data/newAI_hub_train.csv')"
   ]
  },
  {
   "cell_type": "code",
   "execution_count": 456,
   "id": "light-composite",
   "metadata": {
    "scrolled": true
   },
   "outputs": [],
   "source": [
    "a.dropna(inplace = True)"
   ]
  },
  {
   "cell_type": "code",
   "execution_count": 458,
   "id": "reduced-porcelain",
   "metadata": {},
   "outputs": [],
   "source": [
    "a.to_csv('Chatbot_data/newAI_hub_train.csv',index = False)"
   ]
  },
  {
   "cell_type": "code",
   "execution_count": 460,
   "id": "latin-stocks",
   "metadata": {},
   "outputs": [
    {
     "data": {
      "text/plain": [
       "1472"
      ]
     },
     "execution_count": 460,
     "metadata": {},
     "output_type": "execute_result"
    }
   ],
   "source": [
    "len(a)"
   ]
  },
  {
   "cell_type": "code",
   "execution_count": 424,
   "id": "lasting-surfing",
   "metadata": {},
   "outputs": [],
   "source": [
    "def length(series):\n",
    "    \n",
    "    return len(series)\n",
    "    "
   ]
  },
  {
   "cell_type": "code",
   "execution_count": 427,
   "id": "adequate-argentina",
   "metadata": {},
   "outputs": [],
   "source": [
    "newData['length'] = newData['Q'].astype('str').apply(length)"
   ]
  },
  {
   "cell_type": "code",
   "execution_count": 430,
   "id": "metallic-excess",
   "metadata": {},
   "outputs": [
    {
     "data": {
      "text/plain": [
       "25.127574750830565"
      ]
     },
     "execution_count": 430,
     "metadata": {},
     "output_type": "execute_result"
    }
   ],
   "source": [
    "newData['length']."
   ]
  },
  {
   "cell_type": "code",
   "execution_count": 431,
   "id": "traditional-commission",
   "metadata": {},
   "outputs": [
    {
     "data": {
      "text/html": [
       "<div>\n",
       "<style scoped>\n",
       "    .dataframe tbody tr th:only-of-type {\n",
       "        vertical-align: middle;\n",
       "    }\n",
       "\n",
       "    .dataframe tbody tr th {\n",
       "        vertical-align: top;\n",
       "    }\n",
       "\n",
       "    .dataframe thead th {\n",
       "        text-align: right;\n",
       "    }\n",
       "</style>\n",
       "<table border=\"1\" class=\"dataframe\">\n",
       "  <thead>\n",
       "    <tr style=\"text-align: right;\">\n",
       "      <th></th>\n",
       "      <th>length</th>\n",
       "    </tr>\n",
       "  </thead>\n",
       "  <tbody>\n",
       "    <tr>\n",
       "      <th>count</th>\n",
       "      <td>1505.000000</td>\n",
       "    </tr>\n",
       "    <tr>\n",
       "      <th>mean</th>\n",
       "      <td>25.127575</td>\n",
       "    </tr>\n",
       "    <tr>\n",
       "      <th>std</th>\n",
       "      <td>18.069854</td>\n",
       "    </tr>\n",
       "    <tr>\n",
       "      <th>min</th>\n",
       "      <td>1.000000</td>\n",
       "    </tr>\n",
       "    <tr>\n",
       "      <th>25%</th>\n",
       "      <td>13.000000</td>\n",
       "    </tr>\n",
       "    <tr>\n",
       "      <th>50%</th>\n",
       "      <td>20.000000</td>\n",
       "    </tr>\n",
       "    <tr>\n",
       "      <th>75%</th>\n",
       "      <td>31.000000</td>\n",
       "    </tr>\n",
       "    <tr>\n",
       "      <th>max</th>\n",
       "      <td>146.000000</td>\n",
       "    </tr>\n",
       "  </tbody>\n",
       "</table>\n",
       "</div>"
      ],
      "text/plain": [
       "            length\n",
       "count  1505.000000\n",
       "mean     25.127575\n",
       "std      18.069854\n",
       "min       1.000000\n",
       "25%      13.000000\n",
       "50%      20.000000\n",
       "75%      31.000000\n",
       "max     146.000000"
      ]
     },
     "execution_count": 431,
     "metadata": {},
     "output_type": "execute_result"
    }
   ],
   "source": [
    "newData.describe()"
   ]
  },
  {
   "cell_type": "code",
   "execution_count": 472,
   "id": "convertible-crowd",
   "metadata": {},
   "outputs": [],
   "source": [
    "newData = newData.loc[:,['Q','A']]"
   ]
  },
  {
   "cell_type": "code",
   "execution_count": 497,
   "id": "nervous-mexico",
   "metadata": {},
   "outputs": [],
   "source": [
    "ogData = pd.read_csv('Chatbot_data/train.csv', encoding='CP949')"
   ]
  },
  {
   "cell_type": "code",
   "execution_count": 470,
   "id": "natural-candle",
   "metadata": {},
   "outputs": [],
   "source": [
    "ogData = ogData.loc[:,['Q','A']]"
   ]
  },
  {
   "cell_type": "code",
   "execution_count": 477,
   "id": "altered-noise",
   "metadata": {},
   "outputs": [],
   "source": [
    "ogData.drop_duplicates('Q',inplace = True)"
   ]
  },
  {
   "cell_type": "code",
   "execution_count": 498,
   "id": "nonprofit-destination",
   "metadata": {},
   "outputs": [],
   "source": [
    "totalData = pd.concat([ogData,newData])"
   ]
  },
  {
   "cell_type": "code",
   "execution_count": 499,
   "id": "confident-reducing",
   "metadata": {},
   "outputs": [
    {
     "data": {
      "text/plain": [
       "23968"
      ]
     },
     "execution_count": 499,
     "metadata": {},
     "output_type": "execute_result"
    }
   ],
   "source": [
    "len(totalData)"
   ]
  },
  {
   "cell_type": "code",
   "execution_count": 483,
   "id": "typical-pasta",
   "metadata": {},
   "outputs": [],
   "source": [
    "totalData.dropna(inplace = True)"
   ]
  },
  {
   "cell_type": "code",
   "execution_count": 485,
   "id": "reflected-delicious",
   "metadata": {},
   "outputs": [],
   "source": [
    "totalData.to_csv('Chatbot_data/total_train.csv')"
   ]
  },
  {
   "cell_type": "code",
   "execution_count": 487,
   "id": "arranged-surname",
   "metadata": {},
   "outputs": [],
   "source": [
    "testData = pd.read_csv('Chatbot_data/test.csv',encoding='CP949')"
   ]
  },
  {
   "cell_type": "code",
   "execution_count": 488,
   "id": "historical-equality",
   "metadata": {},
   "outputs": [
    {
     "data": {
      "text/plain": [
       "1183"
      ]
     },
     "execution_count": 488,
     "metadata": {},
     "output_type": "execute_result"
    }
   ],
   "source": [
    "len(testData)"
   ]
  },
  {
   "cell_type": "code",
   "execution_count": 513,
   "id": "allied-animal",
   "metadata": {},
   "outputs": [],
   "source": [
    "totalData = pd.concat([totalData, testData])"
   ]
  },
  {
   "cell_type": "code",
   "execution_count": 514,
   "id": "lucky-sudan",
   "metadata": {},
   "outputs": [
    {
     "data": {
      "text/plain": [
       "25151"
      ]
     },
     "execution_count": 514,
     "metadata": {},
     "output_type": "execute_result"
    }
   ],
   "source": [
    "len(totalData)"
   ]
  },
  {
   "cell_type": "code",
   "execution_count": 520,
   "id": "substantial-accent",
   "metadata": {},
   "outputs": [],
   "source": [
    "totalData = totalData.loc[:,['Q','A']]"
   ]
  },
  {
   "cell_type": "code",
   "execution_count": 524,
   "id": "surprised-decision",
   "metadata": {},
   "outputs": [
    {
     "data": {
      "text/plain": [
       "Q     1\n",
       "A    32\n",
       "dtype: int64"
      ]
     },
     "execution_count": 524,
     "metadata": {},
     "output_type": "execute_result"
    }
   ],
   "source": [
    "totalData.isnull().sum()"
   ]
  },
  {
   "cell_type": "code",
   "execution_count": 525,
   "id": "surrounded-helmet",
   "metadata": {},
   "outputs": [
    {
     "data": {
      "text/plain": [
       "25151"
      ]
     },
     "execution_count": 525,
     "metadata": {},
     "output_type": "execute_result"
    }
   ],
   "source": [
    "len(totalData)"
   ]
  },
  {
   "cell_type": "code",
   "execution_count": 527,
   "id": "falling-independence",
   "metadata": {},
   "outputs": [],
   "source": [
    "totalData.dropna(inplace = True)"
   ]
  },
  {
   "cell_type": "code",
   "execution_count": 528,
   "id": "casual-talent",
   "metadata": {},
   "outputs": [],
   "source": [
    "totalData.to_csv('Chatbot_data/total_train.csv')"
   ]
  },
  {
   "cell_type": "code",
   "execution_count": 530,
   "id": "waiting-exposure",
   "metadata": {},
   "outputs": [],
   "source": [
    "Data = pd.read_csv('Chatbot_data/total_train.csv')"
   ]
  },
  {
   "cell_type": "code",
   "execution_count": 2,
   "id": "sound-honor",
   "metadata": {},
   "outputs": [],
   "source": [
    "online = pd.read_csv('Chatbot_data/온라인_댓글_데이터셋(3).csv',header=None)"
   ]
  },
  {
   "cell_type": "code",
   "execution_count": 5,
   "id": "vital-silence",
   "metadata": {},
   "outputs": [],
   "source": [
    "online1000 = online.iloc[:1000]"
   ]
  },
  {
   "cell_type": "code",
   "execution_count": 6,
   "id": "rolled-sending",
   "metadata": {},
   "outputs": [],
   "source": [
    "online10 = online.iloc[:10]"
   ]
  },
  {
   "cell_type": "code",
   "execution_count": 7,
   "id": "sought-premises",
   "metadata": {},
   "outputs": [
    {
     "data": {
      "text/html": [
       "<div>\n",
       "<style scoped>\n",
       "    .dataframe tbody tr th:only-of-type {\n",
       "        vertical-align: middle;\n",
       "    }\n",
       "\n",
       "    .dataframe tbody tr th {\n",
       "        vertical-align: top;\n",
       "    }\n",
       "\n",
       "    .dataframe thead th {\n",
       "        text-align: right;\n",
       "    }\n",
       "</style>\n",
       "<table border=\"1\" class=\"dataframe\">\n",
       "  <thead>\n",
       "    <tr style=\"text-align: right;\">\n",
       "      <th></th>\n",
       "      <th>0</th>\n",
       "    </tr>\n",
       "  </thead>\n",
       "  <tbody>\n",
       "    <tr>\n",
       "      <th>0</th>\n",
       "      <td>그래 대통령 욕은 왜하는겨, 정녕 욕먹을 사람은 선장이랑 이후 대처를 제대로 하지못...</td>\n",
       "    </tr>\n",
       "    <tr>\n",
       "      <th>1</th>\n",
       "      <td>시바 잘하는 짓거리다 가관이네 가관</td>\n",
       "    </tr>\n",
       "    <tr>\n",
       "      <th>2</th>\n",
       "      <td>누가되도 이보단 최악일수없다...</td>\n",
       "    </tr>\n",
       "    <tr>\n",
       "      <th>3</th>\n",
       "      <td>근데 솔까 항상 청문회때 저런 질문들 하든데.. 걍 무뇌인거 입증하는거 뿐이 안됨..</td>\n",
       "    </tr>\n",
       "    <tr>\n",
       "      <th>4</th>\n",
       "      <td>이래서 진짜 국민 무소속이 대통령이 되야함</td>\n",
       "    </tr>\n",
       "    <tr>\n",
       "      <th>5</th>\n",
       "      <td>얼마전에 본 팀버튼의 이상한 나라의 앨리스 영화 생각납니다. 못된 여왕은 큰 얼굴이...</td>\n",
       "    </tr>\n",
       "    <tr>\n",
       "      <th>6</th>\n",
       "      <td>하는 꼬라지 보니 별로 기대할 것도 없수다! 그게 속 편하겠수다. 그 늙어빠진 선장...</td>\n",
       "    </tr>\n",
       "    <tr>\n",
       "      <th>7</th>\n",
       "      <td>차라리 지난번 해양경찰청장 이강덕이 좋은듯</td>\n",
       "    </tr>\n",
       "    <tr>\n",
       "      <th>8</th>\n",
       "      <td>거기 왜 나갔어요?</td>\n",
       "    </tr>\n",
       "    <tr>\n",
       "      <th>9</th>\n",
       "      <td>네이버 운영하는 놈들도 조작녀 박그네 후장빠는 골빈 무뇌아들인가봐 그러니 네이버가 ...</td>\n",
       "    </tr>\n",
       "  </tbody>\n",
       "</table>\n",
       "</div>"
      ],
      "text/plain": [
       "                                                   0\n",
       "0  그래 대통령 욕은 왜하는겨, 정녕 욕먹을 사람은 선장이랑 이후 대처를 제대로 하지못...\n",
       "1                                시바 잘하는 짓거리다 가관이네 가관\n",
       "2                                 누가되도 이보단 최악일수없다...\n",
       "3    근데 솔까 항상 청문회때 저런 질문들 하든데.. 걍 무뇌인거 입증하는거 뿐이 안됨..\n",
       "4                            이래서 진짜 국민 무소속이 대통령이 되야함\n",
       "5  얼마전에 본 팀버튼의 이상한 나라의 앨리스 영화 생각납니다. 못된 여왕은 큰 얼굴이...\n",
       "6  하는 꼬라지 보니 별로 기대할 것도 없수다! 그게 속 편하겠수다. 그 늙어빠진 선장...\n",
       "7                            차라리 지난번 해양경찰청장 이강덕이 좋은듯\n",
       "8                                         거기 왜 나갔어요?\n",
       "9  네이버 운영하는 놈들도 조작녀 박그네 후장빠는 골빈 무뇌아들인가봐 그러니 네이버가 ..."
      ]
     },
     "execution_count": 7,
     "metadata": {},
     "output_type": "execute_result"
    }
   ],
   "source": [
    "online10"
   ]
  },
  {
   "cell_type": "code",
   "execution_count": null,
   "id": "adjustable-identifier",
   "metadata": {},
   "outputs": [],
   "source": [
    "import"
   ]
  }
 ],
 "metadata": {
  "kernelspec": {
   "display_name": "Python 3",
   "language": "python",
   "name": "python3"
  },
  "language_info": {
   "codemirror_mode": {
    "name": "ipython",
    "version": 3
   },
   "file_extension": ".py",
   "mimetype": "text/x-python",
   "name": "python",
   "nbconvert_exporter": "python",
   "pygments_lexer": "ipython3",
   "version": "3.7.0"
  }
 },
 "nbformat": 4,
 "nbformat_minor": 5
}
